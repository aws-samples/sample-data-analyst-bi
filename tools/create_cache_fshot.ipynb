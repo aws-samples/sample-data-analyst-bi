{
 "cells": [
  {
   "cell_type": "code",
   "execution_count": null,
   "id": "6a16daf6-e0b2-4849-a029-0ee352d8b74f",
   "metadata": {
    "scrolled": true
   },
   "outputs": [],
   "source": [
    "!pip install -r requirements.txt"
   ]
  },
  {
   "cell_type": "code",
   "execution_count": 1,
   "id": "2f268f73-7a30-4f4a-af73-1c03761525bf",
   "metadata": {},
   "outputs": [],
   "source": [
    "from create_cache import create_vector_db\n",
    "from create_fshot_examples import main"
   ]
  },
  {
   "cell_type": "markdown",
   "id": "d4185af0-e68e-44c0-854b-4f5597ebd01c",
   "metadata": {},
   "source": [
    "## Create vector DB for cache(To be resued for ingesting fewshot examples)"
   ]
  },
  {
   "cell_type": "code",
   "execution_count": 2,
   "id": "ea3c4879-5160-492e-83d0-ce7723e83527",
   "metadata": {},
   "outputs": [
    {
     "name": "stdout",
     "output_type": "stream",
     "text": [
      "Connecting to the PostgreSQL database...\n",
      "Connection established successfully!\n",
      "Vector extension added successfully.\n",
      "Table Name: examples\n",
      "Table examples created successfully with vector index.\n"
     ]
    }
   ],
   "source": [
    "## This step creates the table in the vector database which will store the embeddings of the cached questions and the fewshot questions\n",
    "create_vector_db() "
   ]
  },
  {
   "cell_type": "markdown",
   "id": "a3265a39-24ea-443d-af0b-9434afe936be",
   "metadata": {},
   "source": [
    "## Ingest fewshot examples"
   ]
  },
  {
   "cell_type": "code",
   "execution_count": null,
   "id": "e63e3d03-5004-401d-a1dd-f2ed9cb3ec15",
   "metadata": {
    "scrolled": true
   },
   "outputs": [],
   "source": [
    "## This step will load the examples from the \"fshot_data\", create embeddings of the questions, generate explanation from the SQLs and store them in the vector database table\n",
    "main()"
   ]
  },
  {
   "cell_type": "code",
   "execution_count": null,
   "id": "291a27fd-977f-4496-9bb1-a223849bc065",
   "metadata": {},
   "outputs": [],
   "source": []
  },
  {
   "cell_type": "code",
   "execution_count": null,
   "id": "2f2b8ae4-059d-46ac-857b-7d00fc1cb531",
   "metadata": {},
   "outputs": [],
   "source": []
  },
  {
   "cell_type": "code",
   "execution_count": null,
   "id": "bd5a3771-f561-41c1-a38b-32fcfa2e38ba",
   "metadata": {},
   "outputs": [],
   "source": []
  }
 ],
 "metadata": {
  "kernelspec": {
   "display_name": "conda_pytorch_p310",
   "language": "python",
   "name": "conda_pytorch_p310"
  },
  "language_info": {
   "codemirror_mode": {
    "name": "ipython",
    "version": 3
   },
   "file_extension": ".py",
   "mimetype": "text/x-python",
   "name": "python",
   "nbconvert_exporter": "python",
   "pygments_lexer": "ipython3",
   "version": "3.10.14"
  }
 },
 "nbformat": 4,
 "nbformat_minor": 5
}
